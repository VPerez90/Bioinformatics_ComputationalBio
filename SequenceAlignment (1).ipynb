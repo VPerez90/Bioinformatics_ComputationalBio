{
 "cells": [
  {
   "cell_type": "markdown",
   "metadata": {},
   "source": [
    "# Week 2 Pseudocode Assignment\n",
    "BIOL 51000 Data Systems in the Life Sciences\n",
    "\n",
    "November 2022\n",
    "\n",
    "Victoria Griffin"
   ]
  },
  {
   "cell_type": "markdown",
   "metadata": {},
   "source": [
    "The following code is an example of 'Importing the HTSeq Library' (requirement 1)"
   ]
  },
  {
   "cell_type": "code",
   "execution_count": 8,
   "metadata": {
    "scrolled": false
   },
   "outputs": [
    {
     "name": "stdout",
     "output_type": "stream",
     "text": [
      "There is a ValueError\n",
      "Success\n"
     ]
    }
   ],
   "source": [
    "#Import HTSeq library\n",
    "\n",
    "try:\n",
    "    from HTSeq import FastqReader, SAM_Reader, GFF_Reader\n",
    "    from HTSeq import GenomicArray, GenomicInterval\n",
    "except ValueError:\n",
    "    print('There is a ValueError') #For some reason my computer is giving me a value error --> something to do with numpy\n",
    "\n",
    "from matplotlib import pyplot\n",
    "from numpy import array\n",
    "\n",
    "print('Success')"
   ]
  },
  {
   "cell_type": "markdown",
   "metadata": {},
   "source": [
    "The following code is an example of 'Importing a FASTQ-format Sequence Including a Header File' (requirement 2)"
   ]
  },
  {
   "cell_type": "code",
   "execution_count": 2,
   "metadata": {},
   "outputs": [
    {
     "name": "stdout",
     "output_type": "stream",
     "text": [
      "Example of a FASTQ file:\n",
      "@r0\n",
      "GAACGATACCCACCCAACTATCGCCATTCCAGCAT\n",
      "+\n",
      "EDCCCBAAAA@@@@?>===<;;9:99987776554\n"
     ]
    }
   ],
   "source": [
    "# Example of a FASTQ File\n",
    "\n",
    "'''\n",
    "@r0\n",
    "GAACGATACCCACCCAACTATCGCCATTCCAGCAT\n",
    "+\n",
    "EDCCCBAAAA@@@@?>===<;;9:99987776554\n",
    "'''\n",
    "print('Example of a FASTQ file:')\n",
    "print('@r0')\n",
    "print('GAACGATACCCACCCAACTATCGCCATTCCAGCAT')\n",
    "print('+')\n",
    "print('EDCCCBAAAA@@@@?>===<;;9:99987776554')"
   ]
  },
  {
   "cell_type": "code",
   "execution_count": 5,
   "metadata": {},
   "outputs": [
    {
     "ename": "NameError",
     "evalue": "name 'FastqReader' is not defined",
     "output_type": "error",
     "traceback": [
      "\u001b[0;31m---------------------------------------------------------------------------\u001b[0m",
      "\u001b[0;31mNameError\u001b[0m                                 Traceback (most recent call last)",
      "\u001b[0;32m/var/folders/kg/d3_jb0qs1hn4nf3nz8tjd2xr0000gn/T/ipykernel_4574/3729392250.py\u001b[0m in \u001b[0;36m<module>\u001b[0;34m\u001b[0m\n\u001b[1;32m      1\u001b[0m \u001b[0;31m#Reading a FASTQ File\u001b[0m\u001b[0;34m\u001b[0m\u001b[0;34m\u001b[0m\u001b[0m\n\u001b[1;32m      2\u001b[0m \u001b[0;34m\u001b[0m\u001b[0m\n\u001b[0;32m----> 3\u001b[0;31m \u001b[0mfileObj\u001b[0m \u001b[0;34m=\u001b[0m \u001b[0mFastqReader\u001b[0m\u001b[0;34m(\u001b[0m\u001b[0mFastqFile\u001b[0m\u001b[0;34m)\u001b[0m \u001b[0;31m#Using the imported reader class from HTSeq to make an object\u001b[0m\u001b[0;34m\u001b[0m\u001b[0;34m\u001b[0m\u001b[0m\n\u001b[0m\u001b[1;32m      4\u001b[0m \u001b[0;34m\u001b[0m\u001b[0m\n\u001b[1;32m      5\u001b[0m \u001b[0;31m# Extract sequence by looping through the FASTQ file\u001b[0m\u001b[0;34m\u001b[0m\u001b[0;34m\u001b[0m\u001b[0m\n",
      "\u001b[0;31mNameError\u001b[0m: name 'FastqReader' is not defined"
     ]
    }
   ],
   "source": [
    "#Reading a FASTQ File\n",
    "\n",
    "fileObj = FastqReader(FastqFile) #Using the imported reader class from HTSeq to make an object\n",
    "\n",
    "# Extract sequence by looping through the FASTQ file\n",
    "for readSeq in fileObj:\n",
    "    print(readSeq.name) # header\n",
    "    print(readSeq.seq) # prints sequence\n",
    "    print(readSeq.get_reverse_complement()[::-1]) # prints complement of sequence\n"
   ]
  },
  {
   "cell_type": "code",
   "execution_count": 7,
   "metadata": {},
   "outputs": [
    {
     "name": "stdout",
     "output_type": "stream",
     "text": [
      "Example of importing FASTQ file will look like this:\n",
      "r0\n",
      "GAACGATACCCACCCAACTATCGCCATTCCAGCAT\n",
      "CTTGCTATGGGTGGGTTGATAGCGGTAAGGTCGTA\n"
     ]
    }
   ],
   "source": [
    "print('Example of importing FASTQ file will look like this:') #used FASTQ file from above\n",
    "print('r0')\n",
    "print('GAACGATACCCACCCAACTATCGCCATTCCAGCAT')\n",
    "print('CTTGCTATGGGTGGGTTGATAGCGGTAAGGTCGTA')"
   ]
  },
  {
   "cell_type": "markdown",
   "metadata": {},
   "source": [
    "The following code is an example of 'Reading a Genome Alignment File' (requirement 3)"
   ]
  },
  {
   "cell_type": "code",
   "execution_count": null,
   "metadata": {},
   "outputs": [],
   "source": [
    "alignFile = 'examples/EcoliGenomeAlign.sam' #reading a file in the SAM format\n",
    "chromosomes = set() # variable called chromosomes that defines a set to hold the chromosome identifier\n",
    "\n",
    "#For creating alignment objects\n",
    "for alignment in SAM_Reader(alignFile): \n",
    "    if alignment.aligned: #checks if alignment exists\n",
    "        seqRead = alignment.read #read the alignment\n",
    "        print(seqRead.name) #access sequence name\n",
    "        print(seqRead.seq) #access sequence \n",
    "        \n",
    "        #This section is for accessing the location that was aligned in the genome sequence\n",
    "        genomeRegion = alignment.iv #genomic interval\n",
    "        chromo = genomeRegion.chrom #Find the chromosome number\n",
    "        strand = genomeRegion.strand #Finds the strand\n",
    "        start = genomeRegion.start #Identifies start location\n",
    "        end = genomeRegion.end #Identifies end location\n",
    "        \n",
    "        chromosomes.add(chromo) #adds to chromosome set\n",
    "        print(chromo, start, end, strand) #Prints information found\n",
    "\n",
    "# set of chromosome identifiers created above are converted into a list and made into a GenomicArray called hitMap\n",
    "chromosomes = list(chromosomes)\n",
    "hitMap = GenomicArray(chromosomes, stranded=True, typecode='i') #typecode 'i' means integer\n",
    "\n",
    "#GenomicArray can be filled with results from SAM alignments\n",
    "for alignment in SAM_Reader(alignFile):\n",
    "    if alignment.aligned: #checks to see if alignment is successful\n",
    "        genomeReion = alignment.iv #Used to set values in genomic array\n",
    "        \n",
    "        if genomeRegion.strand == '+':\n",
    "            hitMap[genomeRegion = 1] # set +1 for leading strand\n",
    "        else:\n",
    "            hitMap[genomeRegion = -1] #set -1 for lagging strand, etc\n",
    "\n",
    "# The section will create objects from scratch and will be used to represent regions of interest\n",
    "chromo = chromosome[0]\n",
    "endPoint = 2000000 #intervals are created from position 0 to 2Mbp\n",
    "plusStrand = GenomicInterval(chromo, 0, endPoint, '+')\n",
    "minusStrand = GenomicInterval(chromo, 0, endPoint, '-')\n",
    "bothStrands = GenomicInterval(chromo, 0, endPoint, '.')\n",
    "\n",
    "# The hitMap is queried with the interval object, which then can be used to convert the results to a list. \n",
    "# From the list the results can be plotted in a graph for assessment\n",
    "pyplot.plot(list(hitMap[plusStrand]))\n",
    "pyplot.plot(list(hitMap[minusStrand]))\n",
    "pyplot.show()"
   ]
  },
  {
   "cell_type": "markdown",
   "metadata": {},
   "source": [
    "The following code is an example of 'Python Code for Annotating a High-Throughput Sequence File' (requirement 4)"
   ]
  },
  {
   "cell_type": "code",
   "execution_count": 24,
   "metadata": {},
   "outputs": [
    {
     "ename": "NameError",
     "evalue": "name 'downloadFile' is not defined",
     "output_type": "error",
     "traceback": [
      "\u001b[0;31m---------------------------------------------------------------------------\u001b[0m",
      "\u001b[0;31mNameError\u001b[0m                                 Traceback (most recent call last)",
      "\u001b[0;32m/var/folders/kg/d3_jb0qs1hn4nf3nz8tjd2xr0000gn/T/ipykernel_4574/1197349853.py\u001b[0m in \u001b[0;36m<module>\u001b[0;34m\u001b[0m\n\u001b[1;32m      1\u001b[0m \u001b[0mremoteFileName\u001b[0m \u001b[0;34m=\u001b[0m \u001b[0;34m'/Bacteria/Escherichia_coli_536_uid58531/NC_008253.gff'\u001b[0m \u001b[0;31m#Access file where gff is found\u001b[0m\u001b[0;34m\u001b[0m\u001b[0;34m\u001b[0m\u001b[0m\n\u001b[1;32m      2\u001b[0m \u001b[0mgffFile\u001b[0m \u001b[0;34m=\u001b[0m \u001b[0;34m'examples/EcoliGenomeFeatures.gff'\u001b[0m \u001b[0;31m#Access gff\u001b[0m\u001b[0;34m\u001b[0m\u001b[0;34m\u001b[0m\u001b[0m\n\u001b[0;32m----> 3\u001b[0;31m \u001b[0mdown\u001b[0m \u001b[0;34m=\u001b[0m \u001b[0mdownloadFile\u001b[0m\u001b[0;34m(\u001b[0m\u001b[0mFTP_ROOT\u001b[0m\u001b[0;34m+\u001b[0m\u001b[0mremoteFileName\u001b[0m\u001b[0;34m,\u001b[0m \u001b[0mgffFile\u001b[0m\u001b[0;34m)\u001b[0m \u001b[0;31m#Download file\u001b[0m\u001b[0;34m\u001b[0m\u001b[0;34m\u001b[0m\u001b[0m\n\u001b[0m\u001b[1;32m      4\u001b[0m \u001b[0;34m\u001b[0m\u001b[0m\n\u001b[1;32m      5\u001b[0m \u001b[0mfileObj\u001b[0m \u001b[0;34m=\u001b[0m \u001b[0mGFF_Reader\u001b[0m\u001b[0;34m(\u001b[0m\u001b[0mgffFile\u001b[0m\u001b[0;34m)\u001b[0m \u001b[0;31m# GFF_Reader can easily access file data\u001b[0m\u001b[0;34m\u001b[0m\u001b[0;34m\u001b[0m\u001b[0m\n",
      "\u001b[0;31mNameError\u001b[0m: name 'downloadFile' is not defined"
     ]
    }
   ],
   "source": [
    "remoteFileName = '/Bacteria/Escherichia_coli_536_uid58531/NC_008253.gff' #Access file where gff is found\n",
    "gffFile = 'examples/EcoliGenomeFeatures.gff' #Access gff\n",
    "downloadFile(FTP_ROOT+remoteFileName, gffFile) #Download file \n",
    "\n",
    "fileObj = GFF_Reader(gffFile) # GFF_Reader can easily access file data\n",
    "\n",
    "'''Data from file is looped through to obtain GenomicFeatures class objects which \n",
    "links genomic location to description of the feature'''\n",
    "\n",
    "for genomeFeature in fileObj: #For loop\n",
    "\n",
    "    genomeRegion = genomeFeature.iv #Obtains GeneticFeatures \n",
    "\n",
    "    #Information about the chromosome location is stored in variable called 'data'\n",
    "    data1 = (genomeRegion.chrom,\n",
    "            genomeRegion.start,\n",
    "            genomeRegion.end,\n",
    "            genomeRegion.strand)\n",
    "\n",
    "    # Will print information from data1\n",
    "    print('%s %s - %s (%s)' % data)\n",
    "\n",
    "    # Information about other attributes that also goes along with the location\n",
    "    # Includes features like introns, exons, genes, etc\n",
    "    data2 = (genomeFeature.name,\n",
    "            genomeFeature.type,\n",
    "            genomeFeature.source)\n",
    "    \n",
    "    # Will print information collection from data2\n",
    "    print('%s %s (%s)' % data)\n",
    "    \n",
    "    # Will print information from genomeFeature attribute dictionary\n",
    "    print(genomeFeature.attr)\n",
    "    \n",
    "    '''\n",
    "    For 'print(genomeFeature.attr)', should print something like:\n",
    "    \n",
    "    NC_008253.1 4933963 - 4935385 (+)\n",
    "    CreC CDA (RefSeq)\n",
    "    {'locus_tag': 'ECP_4785', 'exon_number': 1, 'product': 'sensory histidine kinase CreC', 'EC_number': '2.7.3.-',\n",
    "    'note': 'part of a two-component regulatory system with CreB or PhoB%3B involved in catabolic regulation',\n",
    "    'db_xref': 'GeneID:4190641', 'transl_table': '11', 'protein_id': 'YP_672568.1'}\n",
    "    '''\n",
    "\n",
    "    \n",
    "# Plot features in genomic arrays\n",
    "# This section will map annotations to a Python representation of the chromosomes\n",
    "\n",
    "geneMap = GenomicArray('auto', stranded=False, typecode='O') #Will link the GenomicArray directly to annotation objects\n",
    "genePlot = GenomicArray('auto', stranded=False, typecode='i') #Will hold numbers to plot a graph of gene locations \n",
    "\n",
    "# For loop to fill GenomicArray\n",
    "for genomeFeature in fileObj:\n",
    " \n",
    "    if genomeFeature.type == 'gene': #Will only proceed if feature is of type 'gene'\n",
    " \n",
    "        genomeRegion = genomeFeature.iv \n",
    "        geneMap[genomeRegion] = genomeFeature\n",
    "        genePlot[genomeRegion] = 1 #Set GenePlot to hold value of 1 at feature location will create an intermittent array of values\n",
    "\n",
    "# For loop to go through what is contained and extract information about it  \n",
    "    for region, feature in geneMap.steps():\n",
    " \n",
    "        if feature:\n",
    " \n",
    "            data = (feature.name,\n",
    "                    region.start,\n",
    "                    region.end,\n",
    "                    feature.iv.strand)\n",
    " \n",
    "        # Print extracted information\n",
    "        print('%s: %s - %s (%s)' % data)\n",
    "\n",
    "# Steps to create a graph of the information      \n",
    "chromosome = genomeRegion.chrom\n",
    "region = GenomicInterval(chromosome, 0, 40000, '.')\n",
    "pyplot.plot(list(genePlot[region])) #Must first change information into a list\n",
    "pyplot.show()\n"
   ]
  },
  {
   "cell_type": "markdown",
   "metadata": {},
   "source": [
    "Week 1 Assigment: Pairwise Alignment"
   ]
  },
  {
   "cell_type": "code",
   "execution_count": 9,
   "metadata": {},
   "outputs": [
    {
     "name": "stdout",
     "output_type": "stream",
     "text": [
      "14\n",
      "CTTAAC-T\n",
      "CGGATCAT\n"
     ]
    }
   ],
   "source": [
    "\"\"\"Reference matrix used for comparing bases on two sequences → \n",
    "match is 8, mismatch is -5, no sequence data is 0\"\"\"\n",
    "\n",
    "DNA = {'G': { 'G': 8, 'C':-5, 'A':-5, 'T':-5, 'N':0 },\n",
    "       'C': { 'G':-5, 'C': 8, 'A':-5, 'T':-5, 'N':0 },\n",
    "       'A': { 'G':-5, 'C':-5, 'A': 8, 'T':-5, 'N':0 },\n",
    "       'T': { 'G':-5, 'C':-5, 'A':-5, 'T': 8, 'N':0 },\n",
    "       'N': { 'G': 0, 'C': 0, 'A': 0, 'T': 0, 'N':0 }} \n",
    "\n",
    "#_________________________________Start Sequence Alignment Code_________________________________________#\n",
    "\n",
    "# Define function called seqAlign that performs a simple pairwise alignment\n",
    "\n",
    "def seqAlign(seqA, seqB, simMatrix=DNA, insert=3, extend=4): \n",
    "    # gap is penalty of 3, and extension of gap is a penalty of 4\n",
    "\n",
    "  \"\"\"Variables numI and numJ represent the length of the rows and columns of the comparison grid → \n",
    "     needs to be one length longer than each sequence\"\"\"\n",
    "  numI = len(seqA) + 1\n",
    "  numJ = len(seqB) + 1\n",
    "\n",
    "  # Create two matrices. One for holding the scores and one for holding the route taken\n",
    "  scoreMatrix = [[0] * numJ for x in range(numI)]\n",
    "  routeMatrix = [[0] * numJ for x in range(numI)]\n",
    "  \n",
    "  \"\"\"I AM NOT SURE IF THIS NEXT SECTION IS CORRECT --> I AM TRYING TO APPLY 0, -3, -9, etc. TO THE OUTER \n",
    "     ROW AND COLUMN OF THE MATRIX LIKE WE DID DURING THE LECTURE.\"\"\"\n",
    "\n",
    "   # Variables needed to label matrix with correct outer column and row (eg. 0, -3, -6, -9, -12…)\n",
    "  leftColumn = 0\n",
    "  topRow = 0\n",
    "\n",
    "  # Make leftmost column have score start with 0 and decrease by 3 for each iteration\n",
    "  for i in range(1, numI):\n",
    "    routeMatrix[i][0] = leftColumn\n",
    "    leftColumn -= 3\n",
    "    \n",
    "  # Make topmost row have score start with 0 and decrease by 3 for each iteration\n",
    "  for j in range(1, numJ):\n",
    "    routeMatrix[0][j] = topRow\n",
    "    topRow -= 3\n",
    "  \n",
    " # Nested loop used to fill in rest of the matrix \n",
    "  for i in range(1, numI):\n",
    "    for j in range(1, numJ):\n",
    "      \n",
    "      # Penalty of a gap is 3 like our example from class \n",
    "      penalty1 = insert\n",
    "      penalty2 = insert\n",
    "      \n",
    "      #NOT SURE HOW TO FIX THIS THOUGH TO MATCH THE 0,-3, -6….THIS IS WHAT I CAME UP WITH\n",
    "      # Check to see if previous is a gap\n",
    "      if routeMatrix[i-1][j] == routeMatrix[0][j]:\n",
    "        penalty1 = extend\n",
    "        \n",
    "      elif routeMatrix[i][j-1] == routeMatrix[i][0]:\n",
    "        penalty2 = extend\n",
    "       \n",
    "       # Look up similarity score of bases for seqA and seqB \n",
    "      similarity = simMatrix[ seqA[i-1] ][ seqB[j-1] ]\n",
    "      \n",
    "      # Make a list of three possible scores (left-up diagonal, up, and left)\n",
    "      paths = [scoreMatrix[i-1][j-1] + similarity, # Route 0\n",
    "                   scoreMatrix[i-1][j] - penalty1, # Route 1\n",
    "                   scoreMatrix[i][j-1] - penalty2] # Route 2                     \n",
    "      \n",
    "      # The best of the three scores are assigned in ‘best’ and the index of best score is assigned to route\n",
    "      best = max(paths)\n",
    "      route = paths.index(best)           \n",
    "\n",
    "      # The scores and indexes for each iteration are saved in the matrix \n",
    "      scoreMatrix[i][j] = best\n",
    "      routeMatrix[i][j] = route\n",
    "\n",
    "#___________________________________________Working Backwards______________________________________________#\n",
    "   \n",
    "   #  Initialize blank lists to hold the optimal sequence alignments for seqA and seqB    \n",
    "  alignA = []\n",
    "  alignB = []\n",
    "\n",
    "  # Assigning variables to implement into while loop below for working backwards\n",
    "  i = numI-1\n",
    "  j = numJ-1\n",
    "  score = scoreMatrix[i][j]\n",
    "\n",
    "\n",
    "  while i > 0 or j > 0:\n",
    "    route = routeMatrix[i][j]    \n",
    "\n",
    "     # Determining which of the three routes had the highest score\n",
    "    if route == 0: # Diagonal\n",
    "      alignA.append( seqA[i-1] )\n",
    "      alignB.append( seqB[j-1] )\n",
    "      i -= 1\n",
    "      j -= 1\n",
    "\n",
    "    elif route == 1: # Gap in seqB\n",
    "      alignA.append( seqA[i-1] )\n",
    "      alignB.append( '-' )\n",
    "      i -= 1      \n",
    "\n",
    "    elif route == 2: # Gap in seqA\n",
    "      alignA.append( '-' )\n",
    "      alignB.append( seqB[j-1] ) \n",
    "      j -= 1\n",
    "  \n",
    "   # Reverse the alignment lists since we originally stored them backwards, now we want them forwards \n",
    "  alignA.reverse()\n",
    "  alignB.reverse()\n",
    "  alignA = ''.join(alignA)\n",
    "  alignB = ''.join(alignB)\n",
    "\n",
    "  return score, alignA, alignB \n",
    "\n",
    "\n",
    "\n",
    "\n",
    "#__________________________________Example Seqeunces Used During Class_____________________________________#\n",
    "\n",
    "\n",
    "# seqA and seqB are example we used from class\n",
    "seqA = 'CTTAACT'\n",
    "seqB = 'CGGATCAT'\n",
    "\n",
    "score, alignA, alignB = seqAlign(seqA, seqB, DNA) \n",
    "\n",
    "# EXPECTED RESULTS\n",
    "print(score)  #14\n",
    "print(alignA) # CTTAAC-T\n",
    "print(alignB) # CGGATCAT\n",
    "\n",
    "\n",
    "\n"
   ]
  },
  {
   "cell_type": "code",
   "execution_count": null,
   "metadata": {},
   "outputs": [],
   "source": []
  }
 ],
 "metadata": {
  "kernelspec": {
   "display_name": "Python 3 (ipykernel)",
   "language": "python",
   "name": "python3"
  },
  "language_info": {
   "codemirror_mode": {
    "name": "ipython",
    "version": 3
   },
   "file_extension": ".py",
   "mimetype": "text/x-python",
   "name": "python",
   "nbconvert_exporter": "python",
   "pygments_lexer": "ipython3",
   "version": "3.9.7"
  }
 },
 "nbformat": 4,
 "nbformat_minor": 4
}
